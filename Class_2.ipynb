{
  "nbformat": 4,
  "nbformat_minor": 0,
  "metadata": {
    "colab": {
      "provenance": []
    },
    "kernelspec": {
      "name": "python3",
      "display_name": "Python 3"
    },
    "language_info": {
      "name": "python"
    }
  },
  "cells": [
    {
      "cell_type": "code",
      "execution_count": null,
      "metadata": {
        "colab": {
          "base_uri": "https://localhost:8080/"
        },
        "id": "GIeBo8QQMV43",
        "outputId": "f72cca12-0449-4628-9e21-7b0cd0c5a62a"
      },
      "outputs": [
        {
          "output_type": "stream",
          "name": "stdout",
          "text": [
            "f\n"
          ]
        }
      ],
      "source": [
        "text=\"J'ai grave faim\"\n",
        "print(text[-4])"
      ]
    },
    {
      "cell_type": "code",
      "source": [
        "text=\"C'est pas super intéressant\"\n",
        "print(text[-12:-1])"
      ],
      "metadata": {
        "colab": {
          "base_uri": "https://localhost:8080/"
        },
        "id": "bOpfq3izMvPY",
        "outputId": "dfdf0cf0-19d0-41b7-c52e-c0d1ac7f22ac"
      },
      "execution_count": null,
      "outputs": [
        {
          "output_type": "stream",
          "name": "stdout",
          "text": [
            " intéressan\n"
          ]
        }
      ]
    },
    {
      "cell_type": "code",
      "source": [
        "text=\"Londres, la capitale de l'Angleterre et du Royaume-Uni, est une ville moderne dont l'histoire remonte à l'époque romaine.\"\n",
        "print(text[26:36])\n",
        "print(text[-8:-1])"
      ],
      "metadata": {
        "colab": {
          "base_uri": "https://localhost:8080/"
        },
        "id": "k_a-5Te3NvCf",
        "outputId": "a57b8e76-3d7b-40a5-a523-da107bd6ccf1"
      },
      "execution_count": null,
      "outputs": [
        {
          "output_type": "stream",
          "name": "stdout",
          "text": [
            "Angleterre\n",
            "romaine\n"
          ]
        }
      ]
    },
    {
      "cell_type": "code",
      "source": [
        "text=input(\"Where are you from?:\")\n",
        "if text[0]==\"L\" and text[-1]==\".\": print(text)\n",
        "elif text[0]!=\"L\" and text[-1]==\".\": print(\"Something\")\n",
        "else: print(\"There is no dot\")"
      ],
      "metadata": {
        "colab": {
          "base_uri": "https://localhost:8080/"
        },
        "id": "W42ibUl4O4gO",
        "outputId": "f475fd40-20cf-4364-8a8e-2cfb2348ce1a"
      },
      "execution_count": null,
      "outputs": [
        {
          "output_type": "stream",
          "name": "stdout",
          "text": [
            "Where are you from?Pairs.\n",
            "Something\n"
          ]
        }
      ]
    }
  ]
}